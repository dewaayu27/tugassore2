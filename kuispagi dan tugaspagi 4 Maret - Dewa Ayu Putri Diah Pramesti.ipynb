{
  "nbformat": 4,
  "nbformat_minor": 0,
  "metadata": {
    "colab": {
      "name": "kuispagi dan tugaspagi 4 Maret.ipynb",
      "provenance": [],
      "collapsed_sections": []
    },
    "kernelspec": {
      "name": "python3",
      "display_name": "Python 3"
    },
    "language_info": {
      "name": "python"
    }
  },
  "cells": [
    {
      "cell_type": "markdown",
      "source": [
        "**KUIS PAGI (FUNGSI)**"
      ],
      "metadata": {
        "id": "W0jRA1Dq6s9Z"
      }
    },
    {
      "cell_type": "code",
      "execution_count": null,
      "metadata": {
        "id": "IsPa93EWqjeT"
      },
      "outputs": [],
      "source": [
        "# program menghitung persentase\n",
        "def persentase(angkaTotal, angkaJumlah):\n",
        "  p = angkaTotal / angkaJumlah * 100\n",
        "  return print(\"Persentasenya adalah: \", p)"
      ]
    },
    {
      "cell_type": "code",
      "source": [
        "print(\"=======PROGRAM MENGHITUNG PERSENTASE=======\")\n",
        "angkaTotal = int(input(\"Masukkan angka total: \"))\n",
        "angkaJumlah = int(input(\"Masukkan angka jumlah: \"))\n",
        "\n",
        "persentase(angkaTotal, angkaJumlah)"
      ],
      "metadata": {
        "colab": {
          "base_uri": "https://localhost:8080/"
        },
        "id": "6QlwDcTStmRn",
        "outputId": "bf45e92c-10ac-491a-c5f6-da40620b3528"
      },
      "execution_count": null,
      "outputs": [
        {
          "output_type": "stream",
          "name": "stdout",
          "text": [
            "=======PROGRAM MENGHITUNG PERSENTASE=======\n",
            "Masukkan angka total: 90\n",
            "Masukkan angka jumlah: 100\n",
            "Persentasenya adalah:  90.0\n"
          ]
        }
      ]
    },
    {
      "cell_type": "markdown",
      "source": [
        "**KUIS PAGI NOTA**"
      ],
      "metadata": {
        "id": "mJ1zBbkc8Oit"
      }
    },
    {
      "cell_type": "code",
      "source": [
        "notaBelanja = open(\"nota_belanja.txt\", \"w\")\n",
        "notaBelanja.write(\"Barang         Jumlah        Harga\")\n",
        "notaBelanja.write(\"\\nTeh Botol      1 buah        7000\")\n",
        "notaBelanja.write(\"\\nUltramilk      2 buah        12000\")\n",
        "notaBelanja.write(\"\\nSari Roti      3 buah        15000\")\n",
        "\n",
        "notaBelanja.close()"
      ],
      "metadata": {
        "id": "f0cnWWHk63pA"
      },
      "execution_count": null,
      "outputs": []
    },
    {
      "cell_type": "code",
      "source": [
        "notaBelanja = open(\"nota_belanja.txt\", \"a\")\n",
        "notaBelanja.write(\"\\nKacang Pilus   1 buah        5000\")\n",
        "notaBelanja.write(\"\\nChupachup      1 buah        1000\")\n",
        "notaBelanja.close()"
      ],
      "metadata": {
        "id": "trxV2vAi8kYJ"
      },
      "execution_count": null,
      "outputs": []
    },
    {
      "cell_type": "markdown",
      "source": [
        "**TUGAS PAGI FUNGSI, STRING MANIPULATION, DAN FILE HANDLING**"
      ],
      "metadata": {
        "id": "SdLNVaboA6OJ"
      }
    },
    {
      "cell_type": "code",
      "source": [
        "soal = open(\"soal_soal.txt\", \"w\")\n",
        "soal.write(\"JAWABLAH SOAL-SOAL DI BAWAH INI\")\n",
        "soal.write(\"\\n1. Hitunglah luas segitiga dengan alas 5 cm dan tinggi 8 cm\")\n",
        "soal.write(\"\\n2. Hitunglah luas lingkaran dengan phi 3,14 dan dan jari-jari 7 cm\")\n",
        "soal.write(\"\\n3. Hitunglah luas persegi panjang dengan panjang 15 cm dan lebar 10 cm\")\n",
        "\n",
        "soal.close()"
      ],
      "metadata": {
        "id": "XviFA4z5fapq"
      },
      "execution_count": null,
      "outputs": []
    },
    {
      "cell_type": "code",
      "source": [
        "# program menjawab soal\n",
        "print(\"================= Program Menjawab Soal =================\")\n",
        "\n",
        "namaDepan = input(\"Masukkan Nama Depan Penjawab: \")\n",
        "namaBelakang = input(\"Masukkan Nama Belakang Penjawab: \")\n",
        "namaLengkap = namaDepan + ' ' + namaBelakang\n",
        "print(\"Nama Lengkap Penjawab:\", namaLengkap)\n",
        "print(\"\\nSelamat Datang dan Semoga Berhasil!\") \n",
        "print (\"\\n\")\n",
        "\n",
        "# buka file\n",
        "soal = open(\"soal_soal.txt\", \"r\")\n",
        "\n",
        "# baca isi file\n",
        "data = soal.read()\n",
        "print((data))\n",
        "\n",
        "soal.close()\n",
        "\n",
        "pilih = int(input(\"\\nMasukkan nomor soal yang akan dijawab: \"))\n",
        "\n",
        "def soal1():\n",
        "  jawaban = int(input(\"Masukkan jawaban Anda: \"))\n",
        "  if jawaban == 20:\n",
        "    print(\"Selamat, Anda menjawab dengan benar!\")\n",
        "  else:\n",
        "    print(\"Jawaban Anda salah.\")\n",
        "    soal1()\n",
        "\n",
        "def soal2():\n",
        "  jawaban = float(input(\"Masukkan jawaban Anda: \"))\n",
        "  if jawaban == 153.86:\n",
        "   print(\"Selamat, Anda menjawab dengan benar!\")\n",
        "  else:\n",
        "    print(\"Jawaban Anda salah.\")\n",
        "    soal2()\n",
        "\n",
        "def soal3():\n",
        "  jawaban = int(input(\"Masukkan jawaban Anda: \"))\n",
        "  if jawaban == 150:\n",
        "   print(\"Selamat, Anda menjawab dengan benar!\")\n",
        "  else:\n",
        "    print(\"Jawaban Anda salah.\")\n",
        "    soal3()\n",
        "\n",
        "if pilih == 1:\n",
        "  soal1()\n",
        "elif pilih == 2:\n",
        "  soal2()\n",
        "elif pilih == 3:\n",
        "  soal3()\n",
        "else: \n",
        "  print(\"Pilihan tidak ada.\")"
      ],
      "metadata": {
        "colab": {
          "base_uri": "https://localhost:8080/"
        },
        "id": "FI5EzzRTCVEc",
        "outputId": "39e915e8-cf37-4f77-a4e4-4c7833fb8db7"
      },
      "execution_count": null,
      "outputs": [
        {
          "output_type": "stream",
          "name": "stdout",
          "text": [
            "================= Program Menjawab Soal =================\n",
            "Masukkan Nama Depan Penjawab: dewa\n",
            "Masukkan Nama Belakang Penjawab: ayu\n",
            "Nama Lengkap Penjawab: dewa ayu\n",
            "\n",
            "Selamat Datang dan Semoga Berhasil!\n",
            "\n",
            "\n",
            "JAWABLAH SOAL-SOAL DI BAWAH INI\n",
            "1. Hitunglah luas segitiga dengan alas 5 cm dan tinggi 8 cm\n",
            "2. Hitunglah luas lingkaran dengan phi 3,14 dan dan jari-jari 7 cm\n",
            "3. Hitunglah luas persegi panjang dengan panjang 15 cm dan lebar 10 cm\n",
            "\n",
            "Masukkan nomor soal yang akan dijawab: 2\n",
            "Masukkan jawaban Anda: 153.86\n",
            "Selamat, Anda menjawab dengan benar!\n"
          ]
        }
      ]
    }
  ]
}